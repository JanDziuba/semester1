{
 "cells": [
  {
   "cell_type": "markdown",
   "metadata": {
    "id": "5Z7Hz3cmGYlx"
   },
   "source": [
    "# Imporant pixels\n",
    "\n",
    "You are given a pipeline that trains a fully convolutional autoencoder on the MNIST dataset. The model should train in under 2 minutes and give decent results (mean reconstruction loss <35).\n",
    "\n",
    "Your task is to write a function that for a given input image and output pixel coordinates produces a list of input pixels that have non-zero contribution to the value of the output pixel. You should measure each pixel's contribution by setting it to the minimal and maximal value over the whole image.\n"
   ]
  },
  {
   "cell_type": "markdown",
   "metadata": {
    "id": "omLaGEc4aZHO"
   },
   "source": [
    "Training pipeline (DO NOT CHANGE THIS SECTION)"
   ]
  },
  {
   "cell_type": "code",
   "execution_count": 1,
   "metadata": {
    "id": "OywVSurCbfNz"
   },
   "outputs": [
    {
     "name": "stderr",
     "output_type": "stream",
     "text": [
      "/home/jan/.local/lib/python3.10/site-packages/tqdm/auto.py:22: TqdmWarning: IProgress not found. Please update jupyter and ipywidgets. See https://ipywidgets.readthedocs.io/en/stable/user_install.html\n",
      "  from .autonotebook import tqdm as notebook_tqdm\n"
     ]
    }
   ],
   "source": [
    "import typing\n",
    "import os\n",
    "import random\n",
    "import numpy as np\n",
    "import torch\n",
    "import torchvision\n",
    "import torch.nn.functional as F\n",
    "from torch import nn\n",
    "from torch.utils.data import DataLoader\n",
    "from torchvision import transforms\n",
    "from torchvision.datasets import MNIST\n",
    "import matplotlib.pyplot as plt\n",
    "\n",
    "np.random.seed(0)\n",
    "torch.manual_seed(0)\n",
    "random.seed(0)"
   ]
  },
  {
   "cell_type": "code",
   "execution_count": 2,
   "metadata": {
    "id": "1Cd2k4MGbkkx"
   },
   "outputs": [],
   "source": [
    "epochs = 5\n",
    "batch_size = 250\n",
    "learning_rate = 1e-2\n",
    "log_interval = 40"
   ]
  },
  {
   "cell_type": "code",
   "execution_count": 3,
   "metadata": {
    "id": "PUCzv721bknZ"
   },
   "outputs": [],
   "source": [
    "device = torch.device(\"cuda\" if torch.cuda.is_available() else \"cpu\")\n",
    "\n",
    "class Binarize:\n",
    "    def __call__(self, sample):\n",
    "        return torch.bernoulli(sample)\n",
    "\n",
    "img_transform = transforms.Compose([\n",
    "    transforms.ToTensor(),\n",
    "    Binarize(),\n",
    "    transforms.Normalize([0.5], [0.5])\n",
    "])\n",
    "\n",
    "train = MNIST('./data', train=True, transform=img_transform, download=True)\n",
    "train_loader = DataLoader(train, batch_size=batch_size, shuffle=True)\n",
    "\n",
    "test = MNIST('./data', train=False, transform=img_transform, download=True)\n",
    "test_loader = DataLoader(test, batch_size=batch_size, shuffle=True)"
   ]
  },
  {
   "cell_type": "code",
   "execution_count": 4,
   "metadata": {
    "id": "KpeNB3KhRTvt"
   },
   "outputs": [],
   "source": [
    "class FCN(nn.Module):\n",
    "    def __init__(self):\n",
    "        super(FCN, self).__init__()\n",
    "        self.encoder = nn.Sequential(\n",
    "        nn.Conv2d(\n",
    "            1,\n",
    "            16,\n",
    "            kernel_size=(3, 3),\n",
    "            padding=1,\n",
    "            stride=1,\n",
    "            bias=False,\n",
    "        ),\n",
    "        nn.BatchNorm2d(16),\n",
    "        nn.LeakyReLU(),\n",
    "        nn.Conv2d(\n",
    "            16,\n",
    "            32,\n",
    "            kernel_size=(4, 4),\n",
    "            padding=1,\n",
    "            stride=2,\n",
    "            bias=False,),\n",
    "        nn.BatchNorm2d(32),\n",
    "        nn.LeakyReLU(),\n",
    "        nn.Conv2d(\n",
    "            32,\n",
    "            64,\n",
    "            kernel_size=(4, 4),\n",
    "            padding=1,\n",
    "            stride=2,\n",
    "            bias=False,),\n",
    "        nn.BatchNorm2d(64),\n",
    "        nn.LeakyReLU(),\n",
    "        )\n",
    "\n",
    "\n",
    "        self.decoder = nn.Sequential(\n",
    "            nn.ConvTranspose2d(\n",
    "                64,\n",
    "                32,\n",
    "                7, \n",
    "                2, \n",
    "                0, \n",
    "                bias=False),\n",
    "            nn.BatchNorm2d(32),\n",
    "            nn.LeakyReLU(),\n",
    "            nn.ConvTranspose2d(\n",
    "                32,\n",
    "                16,\n",
    "                3, \n",
    "                1, \n",
    "                0, \n",
    "                bias=False),\n",
    "            nn.BatchNorm2d(16),\n",
    "            nn.LeakyReLU(),\n",
    "            nn.ConvTranspose2d(\n",
    "                16,\n",
    "                8,\n",
    "                5, \n",
    "                1, \n",
    "                0, \n",
    "                bias=False),\n",
    "            nn.BatchNorm2d(8),\n",
    "            nn.LeakyReLU(),\n",
    "            nn.ConvTranspose2d(\n",
    "                8,\n",
    "                1,\n",
    "                4, \n",
    "                1, \n",
    "                0, \n",
    "                bias=False),\n",
    "            nn.Tanh(),\n",
    "        )\n",
    "\n",
    "    def forward(self, x):\n",
    "        x = self.encoder(x)\n",
    "        x = self.decoder(x)\n",
    "        return x"
   ]
  },
  {
   "cell_type": "code",
   "execution_count": 5,
   "metadata": {
    "id": "1n09n8PVWpR8"
   },
   "outputs": [],
   "source": [
    "def train(model, device, train_loader, optimizer, epoch, log_interval):\n",
    "    model.train()\n",
    "    for batch_idx, (data, _) in enumerate(train_loader):\n",
    "        data = data.to(device)\n",
    "        optimizer.zero_grad()\n",
    "        output = model(data)\n",
    "        loss = F.mse_loss(output, data, reduction=\"sum\")\n",
    "        loss.backward()\n",
    "        optimizer.step()\n",
    "        if batch_idx % log_interval == 0:\n",
    "            print('Train Epoch: {} [{}/{} ({:.0f}%)]\\tLoss: {:.6f}'.format(\n",
    "                epoch, batch_idx * len(data), len(train_loader.dataset),\n",
    "                100. * batch_idx / len(train_loader), loss.item() / data.size(0)))\n",
    "\n",
    "def test(model, device, test_loader):\n",
    "    model.eval()\n",
    "    test_loss = 0\n",
    "    correct = 0\n",
    "    with torch.no_grad():\n",
    "        for data, _ in test_loader:\n",
    "            data = data.to(device)\n",
    "            output = model(data)\n",
    "            test_loss += F.mse_loss(output, data, reduction='sum').item()  # sum up batch loss\n",
    "\n",
    "    test_loss /= len(test_loader.dataset)\n",
    "\n",
    "    print('\\nTest set: Average loss: {:.4f}\\n'.format(test_loss))\n",
    "\n"
   ]
  },
  {
   "cell_type": "code",
   "execution_count": 6,
   "metadata": {
    "colab": {
     "base_uri": "https://localhost:8080/"
    },
    "id": "0I3woOWcSBPu",
    "outputId": "813b9c58-b4a6-4deb-9b66-588232f1ab0b"
   },
   "outputs": [
    {
     "name": "stdout",
     "output_type": "stream",
     "text": [
      "Train Epoch: 1 [0/60000 (0%)]\tLoss: 1198.474500\n",
      "Train Epoch: 1 [10000/60000 (17%)]\tLoss: 198.316750\n",
      "Train Epoch: 1 [20000/60000 (33%)]\tLoss: 150.677172\n",
      "Train Epoch: 1 [30000/60000 (50%)]\tLoss: 123.899453\n",
      "Train Epoch: 1 [40000/60000 (67%)]\tLoss: 105.494594\n",
      "Train Epoch: 1 [50000/60000 (83%)]\tLoss: 94.648328\n",
      "\n",
      "Test set: Average loss: 83.2661\n",
      "\n",
      "Train Epoch: 2 [0/60000 (0%)]\tLoss: 84.216734\n",
      "Train Epoch: 2 [10000/60000 (17%)]\tLoss: 79.531250\n",
      "Train Epoch: 2 [20000/60000 (33%)]\tLoss: 79.969781\n",
      "Train Epoch: 2 [30000/60000 (50%)]\tLoss: 71.242734\n",
      "Train Epoch: 2 [40000/60000 (67%)]\tLoss: 65.483121\n",
      "Train Epoch: 2 [50000/60000 (83%)]\tLoss: 68.679828\n",
      "\n",
      "Test set: Average loss: 60.5989\n",
      "\n",
      "Train Epoch: 3 [0/60000 (0%)]\tLoss: 61.579246\n",
      "Train Epoch: 3 [10000/60000 (17%)]\tLoss: 57.252641\n",
      "Train Epoch: 3 [20000/60000 (33%)]\tLoss: 54.767758\n",
      "Train Epoch: 3 [30000/60000 (50%)]\tLoss: 54.356484\n",
      "Train Epoch: 3 [40000/60000 (67%)]\tLoss: 59.472824\n",
      "Train Epoch: 3 [50000/60000 (83%)]\tLoss: 47.985738\n",
      "\n",
      "Test set: Average loss: 49.8885\n",
      "\n",
      "Train Epoch: 4 [0/60000 (0%)]\tLoss: 50.177754\n",
      "Train Epoch: 4 [10000/60000 (17%)]\tLoss: 47.910352\n",
      "Train Epoch: 4 [20000/60000 (33%)]\tLoss: 48.605883\n",
      "Train Epoch: 4 [30000/60000 (50%)]\tLoss: 43.727516\n",
      "Train Epoch: 4 [40000/60000 (67%)]\tLoss: 43.000363\n",
      "Train Epoch: 4 [50000/60000 (83%)]\tLoss: 39.371242\n",
      "\n",
      "Test set: Average loss: 41.1396\n",
      "\n",
      "Train Epoch: 5 [0/60000 (0%)]\tLoss: 41.602512\n",
      "Train Epoch: 5 [10000/60000 (17%)]\tLoss: 35.928129\n",
      "Train Epoch: 5 [20000/60000 (33%)]\tLoss: 35.846844\n",
      "Train Epoch: 5 [30000/60000 (50%)]\tLoss: 36.035367\n",
      "Train Epoch: 5 [40000/60000 (67%)]\tLoss: 29.468080\n",
      "Train Epoch: 5 [50000/60000 (83%)]\tLoss: 31.912172\n",
      "\n",
      "Test set: Average loss: 34.3508\n",
      "\n"
     ]
    }
   ],
   "source": [
    "model = FCN().to(device)\n",
    "optimizer = torch.optim.Adam(model.parameters(), lr=learning_rate, weight_decay=1e-5)\n",
    "\n",
    "for epoch in range(1, epochs + 1):\n",
    "    train(model, device, train_loader, optimizer, epoch, log_interval)\n",
    "    test(model, device, test_loader)\n"
   ]
  },
  {
   "cell_type": "markdown",
   "metadata": {
    "id": "wg8A9DuMaT91"
   },
   "source": [
    "# Important pixels"
   ]
  },
  {
   "cell_type": "code",
   "execution_count": 7,
   "metadata": {
    "colab": {
     "base_uri": "https://localhost:8080/",
     "height": 282
    },
    "id": "N-QwwJ77jB3T",
    "outputId": "2ef113e7-e943-488a-cfbc-9ed80374b157"
   },
   "outputs": [
    {
     "data": {
      "text/plain": [
       "<matplotlib.image.AxesImage at 0x7f1cad69fa90>"
      ]
     },
     "execution_count": 7,
     "metadata": {},
     "output_type": "execute_result"
    },
    {
     "data": {
      "image/png": "[encoded data removed]",
      "text/plain": [
       "<Figure size 640x480 with 1 Axes>"
      ]
     },
     "metadata": {},
     "output_type": "display_data"
    }
   ],
   "source": [
    "input_batch = next(iter(train_loader))[0][0,:].unsqueeze(0)\n",
    "input_batch = input_batch.to(device)\n",
    "plt.imshow(input_batch[0, :].cpu().detach().squeeze().numpy())"
   ]
  },
  {
   "cell_type": "code",
   "execution_count": 8,
   "metadata": {
    "colab": {
     "base_uri": "https://localhost:8080/",
     "height": 282
    },
    "id": "mNf7bMGnaLUt",
    "outputId": "04ed0afc-8abb-4a32-f25d-6e73bdb197f1"
   },
   "outputs": [
    {
     "data": {
      "text/plain": [
       "<matplotlib.image.AxesImage at 0x7f1ca42aa590>"
      ]
     },
     "execution_count": 8,
     "metadata": {},
     "output_type": "execute_result"
    },
    {
     "data": {
      "image/png": "[encoded data removed]",
      "text/plain": [
       "<Figure size 640x480 with 1 Axes>"
      ]
     },
     "metadata": {},
     "output_type": "display_data"
    }
   ],
   "source": [
    "plt.imshow(model(input_batch)[0, :].cpu().detach().squeeze().numpy())"
   ]
  },
  {
   "attachments": {},
   "cell_type": "markdown",
   "metadata": {},
   "source": [
    "Your task is to write a function that for a given input image and output pixel coordinates produces a list of input pixels that have non-zero contribution to the value of the output pixel. You should measure each pixel's contribution by setting it to the minimal and maximal value over the whole image."
   ]
  },
  {
   "cell_type": "code",
   "execution_count": 9,
   "metadata": {
    "id": "T4xPxBueF7DZ"
   },
   "outputs": [],
   "source": [
    "def important_pixels(input_batch: torch.Tensor, model: torchvision.models.segmentation.fcn.FCN, device: torch.device, coordinates: typing.Tuple[int, int]) -> typing.Set[typing.Tuple[int,int]]: \n",
    "    model = model.to(device)\n",
    "    input_batch = input_batch.to(device)\n",
    "\n",
    "    ################################\n",
    "    output = model(input_batch)\n",
    "    pixels = []\n",
    "\n",
    "    y, x = coordinates    \n",
    "\n",
    "    for height in range(input_batch.shape[2]):\n",
    "        for width in range(input_batch.shape[3]):\n",
    "            max_img = input_batch.clone()\n",
    "            min_img = input_batch.clone()\n",
    "\n",
    "            max_img[0][0][height][width] = input_batch.max()\n",
    "            min_img[0][0][height][width] = input_batch.min()\n",
    "\n",
    "            output_max = model(max_img)\n",
    "            output_min = model(min_img)\n",
    "\n",
    "            max_imp = abs(output_max[0][0][y][x] - output[0][0][y][x])\n",
    "            min_imp = abs(output_min[0][0][y][x] - output[0][0][y][x])\n",
    "\n",
    "            imp = max_imp + min_imp\n",
    "\n",
    "            if imp != 0:\n",
    "                pixels.append([height, width])\n",
    "\n",
    "    return pixels\n",
    "            \n",
    "\n",
    "    ################################\n",
    "\n"
   ]
  },
  {
   "cell_type": "code",
   "execution_count": 10,
   "metadata": {
    "id": "XDC6r9pzIWrX"
   },
   "outputs": [],
   "source": [
    "checked_pixel = (0, 0)\n",
    "pixels = important_pixels(input_batch, model, device, checked_pixel)"
   ]
  },
  {
   "cell_type": "code",
   "execution_count": 11,
   "metadata": {
    "colab": {
     "base_uri": "https://localhost:8080/",
     "height": 248
    },
    "id": "sDcpODGUkY1v",
    "outputId": "50aa4f03-5aaf-4541-f0ef-eed1d57f6ff4"
   },
   "outputs": [
    {
     "data": {
      "image/png": "[encoded data removed]",
      "text/plain": [
       "<Figure size 640x480 with 1 Axes>"
      ]
     },
     "metadata": {},
     "output_type": "display_data"
    }
   ],
   "source": [
    "input_image_numpy = input_batch[0, :].cpu().detach().squeeze().numpy()\n",
    "\n",
    "for pixel in pixels:\n",
    "    input_image_numpy[pixel[0], pixel[1]] = 0.25\n",
    "\n",
    "input_image_numpy[checked_pixel[0], checked_pixel[1]] = 0.75\n",
    "\n",
    "plt.imshow(input_image_numpy)\n",
    "plt.axis(\"off\")\n",
    "plt.show()"
   ]
  },
  {
   "cell_type": "code",
   "execution_count": null,
   "metadata": {
    "id": "nnLFi_E8oJtg"
   },
   "outputs": [],
   "source": []
  }
 ],
 "metadata": {
  "accelerator": "GPU",
  "colab": {
   "collapsed_sections": [],
   "name": "Copy of GSN/DNN 2021/22 Exam - Task 1 - pixels.ipynb",
   "provenance": []
  },
  "kernelspec": {
   "display_name": "Python 3",
   "language": "python",
   "name": "python3"
  },
  "language_info": {
   "codemirror_mode": {
    "name": "ipython",
    "version": 3
   },
   "file_extension": ".py",
   "mimetype": "text/x-python",
   "name": "python",
   "nbconvert_exporter": "python",
   "pygments_lexer": "ipython3",
   "version": "3.10.6"
  },
  "vscode": {
   "interpreter": {
    "hash": "916dbcbb3f70747c44a77c7bcd40155683ae19c65e1c03b4aa3499c5328201f1"
   }
  }
 },
 "nbformat": 4,
 "nbformat_minor": 0
}
